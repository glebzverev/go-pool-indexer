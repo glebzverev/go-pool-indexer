{
 "cells": [
  {
   "cell_type": "code",
   "execution_count": 1,
   "id": "c6858e99",
   "metadata": {},
   "outputs": [],
   "source": [
    "import pandas as pd"
   ]
  },
  {
   "cell_type": "code",
   "execution_count": 2,
   "id": "94b3e221",
   "metadata": {},
   "outputs": [
    {
     "name": "stdout",
     "output_type": "stream",
     "text": [
      "Index(['Txn Hash', 'Blockno', 'UnixTimestamp', 'Date Time (UTC)', 'Action',\n",
      "       'Amount (Out)', 'Token (Out)', 'Amount (In)', 'Token (In)',\n",
      "       'Swapped Rate', 'Swapped Pair', 'DEX'],\n",
      "      dtype='object')\n"
     ]
    },
    {
     "data": {
      "text/html": [
       "<div>\n",
       "<style scoped>\n",
       "    .dataframe tbody tr th:only-of-type {\n",
       "        vertical-align: middle;\n",
       "    }\n",
       "\n",
       "    .dataframe tbody tr th {\n",
       "        vertical-align: top;\n",
       "    }\n",
       "\n",
       "    .dataframe thead th {\n",
       "        text-align: right;\n",
       "    }\n",
       "</style>\n",
       "<table border=\"1\" class=\"dataframe\">\n",
       "  <thead>\n",
       "    <tr style=\"text-align: right;\">\n",
       "      <th></th>\n",
       "      <th>Txn Hash</th>\n",
       "      <th>Blockno</th>\n",
       "      <th>UnixTimestamp</th>\n",
       "      <th>Date Time (UTC)</th>\n",
       "      <th>Action</th>\n",
       "      <th>Amount (Out)</th>\n",
       "      <th>Token (Out)</th>\n",
       "      <th>Amount (In)</th>\n",
       "      <th>Token (In)</th>\n",
       "      <th>Swapped Rate</th>\n",
       "      <th>Swapped Pair</th>\n",
       "      <th>DEX</th>\n",
       "    </tr>\n",
       "  </thead>\n",
       "  <tbody>\n",
       "    <tr>\n",
       "      <th>0</th>\n",
       "      <td>0x1c4f919077ba8820660fa9737a39e107f33f84020b70...</td>\n",
       "      <td>16730072</td>\n",
       "      <td>1677628811</td>\n",
       "      <td>2023-03-01 00:00:11</td>\n",
       "      <td>Swap</td>\n",
       "      <td>19996.400000</td>\n",
       "      <td>FRAX</td>\n",
       "      <td>1739.207957</td>\n",
       "      <td>FXS</td>\n",
       "      <td>0.086976</td>\n",
       "      <td>FXS per FRAX</td>\n",
       "      <td>Uniswap V2</td>\n",
       "    </tr>\n",
       "    <tr>\n",
       "      <th>1</th>\n",
       "      <td>0x3149552922d6210f1842e38f8c96792b13812d30a04a...</td>\n",
       "      <td>16730072</td>\n",
       "      <td>1677628811</td>\n",
       "      <td>2023-03-01 00:00:11</td>\n",
       "      <td>Buy</td>\n",
       "      <td>2.175732</td>\n",
       "      <td>ETH</td>\n",
       "      <td>304.447912</td>\n",
       "      <td>FXS</td>\n",
       "      <td>0.007146</td>\n",
       "      <td>ETH per FXS</td>\n",
       "      <td>SushiSwap</td>\n",
       "    </tr>\n",
       "    <tr>\n",
       "      <th>2</th>\n",
       "      <td>0xe0dd81ce3111b90ca7c06ad78ec51ca1725140312847...</td>\n",
       "      <td>16730072</td>\n",
       "      <td>1677628811</td>\n",
       "      <td>2023-03-01 00:00:11</td>\n",
       "      <td>Swap</td>\n",
       "      <td>49990.999000</td>\n",
       "      <td>FRAX</td>\n",
       "      <td>4346.042816</td>\n",
       "      <td>FXS</td>\n",
       "      <td>0.086937</td>\n",
       "      <td>FXS per FRAX</td>\n",
       "      <td>Unknown</td>\n",
       "    </tr>\n",
       "    <tr>\n",
       "      <th>3</th>\n",
       "      <td>0xafa378c7e6687ba3e7cd78848675dc8cbf13404eef6f...</td>\n",
       "      <td>16730072</td>\n",
       "      <td>1677628811</td>\n",
       "      <td>2023-03-01 00:00:11</td>\n",
       "      <td>Swap</td>\n",
       "      <td>1.160000</td>\n",
       "      <td>LEASH</td>\n",
       "      <td>404.641783</td>\n",
       "      <td>BONE</td>\n",
       "      <td>0.002867</td>\n",
       "      <td>LEASH per BONE</td>\n",
       "      <td>Unknown</td>\n",
       "    </tr>\n",
       "    <tr>\n",
       "      <th>4</th>\n",
       "      <td>0x4c68d0096331975b298d33706aa28b9ac9067ec89429...</td>\n",
       "      <td>16730072</td>\n",
       "      <td>1677628811</td>\n",
       "      <td>2023-03-01 00:00:11</td>\n",
       "      <td>Sell</td>\n",
       "      <td>34.460117</td>\n",
       "      <td>EUL</td>\n",
       "      <td>0.161971</td>\n",
       "      <td>ETH</td>\n",
       "      <td>0.004700</td>\n",
       "      <td>ETH per EUL</td>\n",
       "      <td>Uniswap V2</td>\n",
       "    </tr>\n",
       "  </tbody>\n",
       "</table>\n",
       "</div>"
      ],
      "text/plain": [
       "                                            Txn Hash   Blockno  UnixTimestamp  \\\n",
       "0  0x1c4f919077ba8820660fa9737a39e107f33f84020b70...  16730072     1677628811   \n",
       "1  0x3149552922d6210f1842e38f8c96792b13812d30a04a...  16730072     1677628811   \n",
       "2  0xe0dd81ce3111b90ca7c06ad78ec51ca1725140312847...  16730072     1677628811   \n",
       "3  0xafa378c7e6687ba3e7cd78848675dc8cbf13404eef6f...  16730072     1677628811   \n",
       "4  0x4c68d0096331975b298d33706aa28b9ac9067ec89429...  16730072     1677628811   \n",
       "\n",
       "       Date Time (UTC) Action  Amount (Out) Token (Out)  Amount (In)  \\\n",
       "0  2023-03-01 00:00:11   Swap  19996.400000        FRAX  1739.207957   \n",
       "1  2023-03-01 00:00:11    Buy      2.175732         ETH   304.447912   \n",
       "2  2023-03-01 00:00:11   Swap  49990.999000        FRAX  4346.042816   \n",
       "3  2023-03-01 00:00:11   Swap      1.160000       LEASH   404.641783   \n",
       "4  2023-03-01 00:00:11   Sell     34.460117         EUL     0.161971   \n",
       "\n",
       "  Token (In)  Swapped Rate    Swapped Pair         DEX  \n",
       "0        FXS      0.086976    FXS per FRAX  Uniswap V2  \n",
       "1        FXS      0.007146     ETH per FXS   SushiSwap  \n",
       "2        FXS      0.086937    FXS per FRAX     Unknown  \n",
       "3       BONE      0.002867  LEASH per BONE     Unknown  \n",
       "4        ETH      0.004700     ETH per EUL  Uniswap V2  "
      ]
     },
     "execution_count": 2,
     "metadata": {},
     "output_type": "execute_result"
    }
   ],
   "source": [
    "df = pd.read_csv(\"./tracker.csv\", on_bad_lines='skip')\n",
    "print(df.columns)\n",
    "df.head()"
   ]
  },
  {
   "cell_type": "code",
   "execution_count": 8,
   "id": "64a1d9e1",
   "metadata": {},
   "outputs": [
    {
     "data": {
      "text/plain": [
       "array(['Uniswap V2', 'SushiSwap', 'Unknown', 'Uniswap V3',\n",
       "       'Kyber Network'], dtype=object)"
      ]
     },
     "execution_count": 8,
     "metadata": {},
     "output_type": "execute_result"
    }
   ],
   "source": [
    "df.DEX.unique()"
   ]
  },
  {
   "cell_type": "code",
   "execution_count": 16,
   "id": "fd9458f0",
   "metadata": {},
   "outputs": [
    {
     "data": {
      "text/plain": [
       "(473, 517)"
      ]
     },
     "execution_count": 16,
     "metadata": {},
     "output_type": "execute_result"
    }
   ],
   "source": [
    "len(df[\"Token (In)\"].unique()), len(df[\"Token (Out)\"].unique())"
   ]
  },
  {
   "cell_type": "code",
   "execution_count": 18,
   "id": "df0f41f3",
   "metadata": {},
   "outputs": [
    {
     "data": {
      "text/plain": [
       "779"
      ]
     },
     "execution_count": 18,
     "metadata": {},
     "output_type": "execute_result"
    }
   ],
   "source": [
    "len(df[\"Swapped Pair\"].unique())"
   ]
  },
  {
   "cell_type": "code",
   "execution_count": 23,
   "id": "4561eddb",
   "metadata": {},
   "outputs": [
    {
     "data": {
      "text/plain": [
       "' FXS'"
      ]
     },
     "execution_count": 23,
     "metadata": {},
     "output_type": "execute_result"
    }
   ],
   "source": [
    "df[\"Token (In)\"][0]"
   ]
  },
  {
   "cell_type": "code",
   "execution_count": 24,
   "id": "e023f6f5",
   "metadata": {},
   "outputs": [
    {
     "name": "stdout",
     "output_type": "stream",
     "text": [
      "Index(['Txn Hash', 'Blockno', 'UnixTimestamp', 'Date Time (UTC)', 'Action',\n",
      "       'Amount (Out)', 'Token (Out)', 'Amount (In)', 'Token (In)',\n",
      "       'Swapped Rate', 'Swapped Pair', 'DEX'],\n",
      "      dtype='object')\n"
     ]
    },
    {
     "data": {
      "text/html": [
       "<div>\n",
       "<style scoped>\n",
       "    .dataframe tbody tr th:only-of-type {\n",
       "        vertical-align: middle;\n",
       "    }\n",
       "\n",
       "    .dataframe tbody tr th {\n",
       "        vertical-align: top;\n",
       "    }\n",
       "\n",
       "    .dataframe thead th {\n",
       "        text-align: right;\n",
       "    }\n",
       "</style>\n",
       "<table border=\"1\" class=\"dataframe\">\n",
       "  <thead>\n",
       "    <tr style=\"text-align: right;\">\n",
       "      <th></th>\n",
       "      <th>Txn Hash</th>\n",
       "      <th>Blockno</th>\n",
       "      <th>UnixTimestamp</th>\n",
       "      <th>Date Time (UTC)</th>\n",
       "      <th>Action</th>\n",
       "      <th>Amount (Out)</th>\n",
       "      <th>Token (Out)</th>\n",
       "      <th>Amount (In)</th>\n",
       "      <th>Token (In)</th>\n",
       "      <th>Swapped Rate</th>\n",
       "      <th>Swapped Pair</th>\n",
       "      <th>DEX</th>\n",
       "    </tr>\n",
       "  </thead>\n",
       "  <tbody>\n",
       "    <tr>\n",
       "      <th>0</th>\n",
       "      <td>0xb117f2d9744d503fede2e4f6b5686133f402ebd0067e...</td>\n",
       "      <td>16747499</td>\n",
       "      <td>1677840575</td>\n",
       "      <td>2023-03-03 10:49:35</td>\n",
       "      <td>Sell</td>\n",
       "      <td>0.012763</td>\n",
       "      <td>COMP</td>\n",
       "      <td>0.6</td>\n",
       "      <td>USDT</td>\n",
       "      <td>47.009123</td>\n",
       "      <td>USDT per COMP</td>\n",
       "      <td>Airswap v2</td>\n",
       "    </tr>\n",
       "    <tr>\n",
       "      <th>1</th>\n",
       "      <td>0x3d56fdba97ca45e3e422c128f465694504f6eb88c262...</td>\n",
       "      <td>16775234</td>\n",
       "      <td>1678177655</td>\n",
       "      <td>2023-03-07 08:27:35</td>\n",
       "      <td>Sell</td>\n",
       "      <td>1000.000000</td>\n",
       "      <td>GENII</td>\n",
       "      <td>200.0</td>\n",
       "      <td>USDT</td>\n",
       "      <td>0.200000</td>\n",
       "      <td>USDT per GENII</td>\n",
       "      <td>Airswap v2</td>\n",
       "    </tr>\n",
       "    <tr>\n",
       "      <th>2</th>\n",
       "      <td>0xe232958bec3adad7ac40c92b73db553ec8cb81f856ce...</td>\n",
       "      <td>16776261</td>\n",
       "      <td>1678190135</td>\n",
       "      <td>2023-03-07 11:55:35</td>\n",
       "      <td>Buy</td>\n",
       "      <td>0.125000</td>\n",
       "      <td>WETH</td>\n",
       "      <td>113.0</td>\n",
       "      <td>GAL</td>\n",
       "      <td>0.001106</td>\n",
       "      <td>WETH per GAL</td>\n",
       "      <td>Airswap v2</td>\n",
       "    </tr>\n",
       "    <tr>\n",
       "      <th>3</th>\n",
       "      <td>0xd7b258fc46608ba402c99c583660930d3dcd44e05321...</td>\n",
       "      <td>16777371</td>\n",
       "      <td>1678203587</td>\n",
       "      <td>2023-03-07 15:39:47</td>\n",
       "      <td>Sell</td>\n",
       "      <td>30000.000000</td>\n",
       "      <td>GENII</td>\n",
       "      <td>6000.0</td>\n",
       "      <td>USDC</td>\n",
       "      <td>0.200000</td>\n",
       "      <td>USDC per GENII</td>\n",
       "      <td>Airswap v2</td>\n",
       "    </tr>\n",
       "    <tr>\n",
       "      <th>4</th>\n",
       "      <td>0x682a78a8fcabc2653ebe0b9d38748e22deda55130ee0...</td>\n",
       "      <td>16789205</td>\n",
       "      <td>1678347419</td>\n",
       "      <td>2023-03-09 07:36:59</td>\n",
       "      <td>Sell</td>\n",
       "      <td>44050.000000</td>\n",
       "      <td>DEXTF</td>\n",
       "      <td>5400.0</td>\n",
       "      <td>USDT</td>\n",
       "      <td>0.122588</td>\n",
       "      <td>USDT per DEXTF</td>\n",
       "      <td>Airswap v2</td>\n",
       "    </tr>\n",
       "  </tbody>\n",
       "</table>\n",
       "</div>"
      ],
      "text/plain": [
       "                                            Txn Hash   Blockno  UnixTimestamp  \\\n",
       "0  0xb117f2d9744d503fede2e4f6b5686133f402ebd0067e...  16747499     1677840575   \n",
       "1  0x3d56fdba97ca45e3e422c128f465694504f6eb88c262...  16775234     1678177655   \n",
       "2  0xe232958bec3adad7ac40c92b73db553ec8cb81f856ce...  16776261     1678190135   \n",
       "3  0xd7b258fc46608ba402c99c583660930d3dcd44e05321...  16777371     1678203587   \n",
       "4  0x682a78a8fcabc2653ebe0b9d38748e22deda55130ee0...  16789205     1678347419   \n",
       "\n",
       "       Date Time (UTC) Action  Amount (Out) Token (Out)  Amount (In)  \\\n",
       "0  2023-03-03 10:49:35   Sell      0.012763        COMP          0.6   \n",
       "1  2023-03-07 08:27:35   Sell   1000.000000       GENII        200.0   \n",
       "2  2023-03-07 11:55:35    Buy      0.125000        WETH        113.0   \n",
       "3  2023-03-07 15:39:47   Sell  30000.000000       GENII       6000.0   \n",
       "4  2023-03-09 07:36:59   Sell  44050.000000       DEXTF       5400.0   \n",
       "\n",
       "  Token (In)  Swapped Rate    Swapped Pair         DEX  \n",
       "0       USDT     47.009123   USDT per COMP  Airswap v2  \n",
       "1       USDT      0.200000  USDT per GENII  Airswap v2  \n",
       "2        GAL      0.001106    WETH per GAL  Airswap v2  \n",
       "3       USDC      0.200000  USDC per GENII  Airswap v2  \n",
       "4       USDT      0.122588  USDT per DEXTF  Airswap v2  "
      ]
     },
     "execution_count": 24,
     "metadata": {},
     "output_type": "execute_result"
    }
   ],
   "source": [
    "df = pd.read_csv(\"./trader.csv\", on_bad_lines='skip')\n",
    "print(df.columns)\n",
    "df.head()"
   ]
  },
  {
   "cell_type": "code",
   "execution_count": 25,
   "id": "4f96a0f1",
   "metadata": {},
   "outputs": [
    {
     "name": "stdout",
     "output_type": "stream",
     "text": [
      "Index(['Txn Hash', 'Blockno', 'UnixTimestamp', 'Date Time (UTC)', 'Action',\n",
      "       'Amount (Out)', 'Token (Out)', 'Amount (In)', 'Token (In)',\n",
      "       'Swapped Rate', 'Swapped Pair', 'DEX'],\n",
      "      dtype='object')\n"
     ]
    },
    {
     "data": {
      "text/html": [
       "<div>\n",
       "<style scoped>\n",
       "    .dataframe tbody tr th:only-of-type {\n",
       "        vertical-align: middle;\n",
       "    }\n",
       "\n",
       "    .dataframe tbody tr th {\n",
       "        vertical-align: top;\n",
       "    }\n",
       "\n",
       "    .dataframe thead th {\n",
       "        text-align: right;\n",
       "    }\n",
       "</style>\n",
       "<table border=\"1\" class=\"dataframe\">\n",
       "  <thead>\n",
       "    <tr style=\"text-align: right;\">\n",
       "      <th></th>\n",
       "      <th>Txn Hash</th>\n",
       "      <th>Blockno</th>\n",
       "      <th>UnixTimestamp</th>\n",
       "      <th>Date Time (UTC)</th>\n",
       "      <th>Action</th>\n",
       "      <th>Amount (Out)</th>\n",
       "      <th>Token (Out)</th>\n",
       "      <th>Amount (In)</th>\n",
       "      <th>Token (In)</th>\n",
       "      <th>Swapped Rate</th>\n",
       "      <th>Swapped Pair</th>\n",
       "      <th>DEX</th>\n",
       "    </tr>\n",
       "  </thead>\n",
       "  <tbody>\n",
       "    <tr>\n",
       "      <th>0</th>\n",
       "      <td>0x1c4f919077ba8820660fa9737a39e107f33f84020b70...</td>\n",
       "      <td>16730072</td>\n",
       "      <td>1677628811</td>\n",
       "      <td>2023-03-01 00:00:11</td>\n",
       "      <td>Swap</td>\n",
       "      <td>19996.400000</td>\n",
       "      <td>FRAX</td>\n",
       "      <td>1739.207957</td>\n",
       "      <td>FXS</td>\n",
       "      <td>0.086976</td>\n",
       "      <td>FXS per FRAX</td>\n",
       "      <td>Uniswap V2</td>\n",
       "    </tr>\n",
       "    <tr>\n",
       "      <th>1</th>\n",
       "      <td>0x3149552922d6210f1842e38f8c96792b13812d30a04a...</td>\n",
       "      <td>16730072</td>\n",
       "      <td>1677628811</td>\n",
       "      <td>2023-03-01 00:00:11</td>\n",
       "      <td>Buy</td>\n",
       "      <td>2.175732</td>\n",
       "      <td>ETH</td>\n",
       "      <td>304.447912</td>\n",
       "      <td>FXS</td>\n",
       "      <td>0.007146</td>\n",
       "      <td>ETH per FXS</td>\n",
       "      <td>SushiSwap</td>\n",
       "    </tr>\n",
       "    <tr>\n",
       "      <th>2</th>\n",
       "      <td>0xe0dd81ce3111b90ca7c06ad78ec51ca1725140312847...</td>\n",
       "      <td>16730072</td>\n",
       "      <td>1677628811</td>\n",
       "      <td>2023-03-01 00:00:11</td>\n",
       "      <td>Swap</td>\n",
       "      <td>49990.999000</td>\n",
       "      <td>FRAX</td>\n",
       "      <td>4346.042816</td>\n",
       "      <td>FXS</td>\n",
       "      <td>0.086937</td>\n",
       "      <td>FXS per FRAX</td>\n",
       "      <td>Unknown</td>\n",
       "    </tr>\n",
       "    <tr>\n",
       "      <th>3</th>\n",
       "      <td>0xafa378c7e6687ba3e7cd78848675dc8cbf13404eef6f...</td>\n",
       "      <td>16730072</td>\n",
       "      <td>1677628811</td>\n",
       "      <td>2023-03-01 00:00:11</td>\n",
       "      <td>Swap</td>\n",
       "      <td>1.160000</td>\n",
       "      <td>LEASH</td>\n",
       "      <td>404.641783</td>\n",
       "      <td>BONE</td>\n",
       "      <td>0.002867</td>\n",
       "      <td>LEASH per BONE</td>\n",
       "      <td>Unknown</td>\n",
       "    </tr>\n",
       "    <tr>\n",
       "      <th>4</th>\n",
       "      <td>0x4c68d0096331975b298d33706aa28b9ac9067ec89429...</td>\n",
       "      <td>16730072</td>\n",
       "      <td>1677628811</td>\n",
       "      <td>2023-03-01 00:00:11</td>\n",
       "      <td>Sell</td>\n",
       "      <td>34.460117</td>\n",
       "      <td>EUL</td>\n",
       "      <td>0.161971</td>\n",
       "      <td>ETH</td>\n",
       "      <td>0.004700</td>\n",
       "      <td>ETH per EUL</td>\n",
       "      <td>Uniswap V2</td>\n",
       "    </tr>\n",
       "  </tbody>\n",
       "</table>\n",
       "</div>"
      ],
      "text/plain": [
       "                                            Txn Hash   Blockno  UnixTimestamp  \\\n",
       "0  0x1c4f919077ba8820660fa9737a39e107f33f84020b70...  16730072     1677628811   \n",
       "1  0x3149552922d6210f1842e38f8c96792b13812d30a04a...  16730072     1677628811   \n",
       "2  0xe0dd81ce3111b90ca7c06ad78ec51ca1725140312847...  16730072     1677628811   \n",
       "3  0xafa378c7e6687ba3e7cd78848675dc8cbf13404eef6f...  16730072     1677628811   \n",
       "4  0x4c68d0096331975b298d33706aa28b9ac9067ec89429...  16730072     1677628811   \n",
       "\n",
       "       Date Time (UTC) Action  Amount (Out) Token (Out)  Amount (In)  \\\n",
       "0  2023-03-01 00:00:11   Swap  19996.400000        FRAX  1739.207957   \n",
       "1  2023-03-01 00:00:11    Buy      2.175732         ETH   304.447912   \n",
       "2  2023-03-01 00:00:11   Swap  49990.999000        FRAX  4346.042816   \n",
       "3  2023-03-01 00:00:11   Swap      1.160000       LEASH   404.641783   \n",
       "4  2023-03-01 00:00:11   Sell     34.460117         EUL     0.161971   \n",
       "\n",
       "  Token (In)  Swapped Rate    Swapped Pair         DEX  \n",
       "0        FXS      0.086976    FXS per FRAX  Uniswap V2  \n",
       "1        FXS      0.007146     ETH per FXS   SushiSwap  \n",
       "2        FXS      0.086937    FXS per FRAX     Unknown  \n",
       "3       BONE      0.002867  LEASH per BONE     Unknown  \n",
       "4        ETH      0.004700     ETH per EUL  Uniswap V2  "
      ]
     },
     "execution_count": 25,
     "metadata": {},
     "output_type": "execute_result"
    }
   ],
   "source": [
    "df = pd.read_csv(\"./txs.csv\", on_bad_lines='skip')\n",
    "print(df.columns)\n",
    "df.head()"
   ]
  },
  {
   "cell_type": "code",
   "execution_count": 32,
   "id": "869d0dbf",
   "metadata": {},
   "outputs": [
    {
     "name": "stdout",
     "output_type": "stream",
     "text": [
      "{\"message\":\"You are not subscribed to this API.\"}\n"
     ]
    }
   ],
   "source": [
    "import requests\n",
    "\n",
    "url = \"https://coinranking1.p.rapidapi.com/coins\"\n",
    "\n",
    "querystring = {\"referenceCurrencyUuid\":\"yhjMzLPhuIDl\",\"timePeriod\":\"24h\",\"tiers[0]\":\"1\",\"orderBy\":\"marketCap\",\"orderDirection\":\"desc\",\"limit\":\"50\",\"offset\":\"0\"}\n",
    "\n",
    "headers = {\n",
    "    \"X-RapidAPI-Key\": \"ac883251c1msh3c940db7a8cbb9fp1bc08fjsnd28015c4cbab\",\n",
    "    \"X-RapidAPI-Host\": \"coinranking1.p.rapidapi.com\"\n",
    "}\n",
    "\n",
    "response = requests.request(\"GET\", url, headers=headers, params=querystring)\n",
    "\n",
    "print(response.text)"
   ]
  },
  {
   "cell_type": "code",
   "execution_count": null,
   "id": "697c0d5c",
   "metadata": {},
   "outputs": [],
   "source": []
  }
 ],
 "metadata": {
  "kernelspec": {
   "display_name": "Python 3 (ipykernel)",
   "language": "python",
   "name": "python3"
  },
  "language_info": {
   "codemirror_mode": {
    "name": "ipython",
    "version": 3
   },
   "file_extension": ".py",
   "mimetype": "text/x-python",
   "name": "python",
   "nbconvert_exporter": "python",
   "pygments_lexer": "ipython3",
   "version": "3.10.6"
  }
 },
 "nbformat": 4,
 "nbformat_minor": 5
}
